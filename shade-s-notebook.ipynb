{
 "cells": [
  {
   "cell_type": "markdown",
   "id": "dca5aa45",
   "metadata": {
    "_cell_guid": "b1076dfc-b9ad-4769-8c92-a6c4dae69d19",
    "_uuid": "8f2839f25d086af736a60e9eeb907d3b93b6e0e5",
    "papermill": {
     "duration": 0.00215,
     "end_time": "2025-03-19T05:39:38.436688",
     "exception": false,
     "start_time": "2025-03-19T05:39:38.434538",
     "status": "completed"
    },
    "tags": []
   },
   "source": [
    "# My name is Shade"
   ]
  },
  {
   "cell_type": "code",
   "execution_count": 1,
   "id": "989a8ed8",
   "metadata": {
    "execution": {
     "iopub.execute_input": "2025-03-19T05:39:38.441716Z",
     "iopub.status.busy": "2025-03-19T05:39:38.441359Z",
     "iopub.status.idle": "2025-03-19T05:39:38.449732Z",
     "shell.execute_reply": "2025-03-19T05:39:38.448505Z"
    },
    "papermill": {
     "duration": 0.012779,
     "end_time": "2025-03-19T05:39:38.451416",
     "exception": false,
     "start_time": "2025-03-19T05:39:38.438637",
     "status": "completed"
    },
    "tags": []
   },
   "outputs": [
    {
     "data": {
      "text/plain": [
       "4"
      ]
     },
     "execution_count": 1,
     "metadata": {},
     "output_type": "execute_result"
    }
   ],
   "source": [
    "2 + 2"
   ]
  },
  {
   "cell_type": "code",
   "execution_count": null,
   "id": "72c2febe",
   "metadata": {
    "papermill": {
     "duration": 0.001509,
     "end_time": "2025-03-19T05:39:38.454949",
     "exception": false,
     "start_time": "2025-03-19T05:39:38.453440",
     "status": "completed"
    },
    "tags": []
   },
   "outputs": [],
   "source": []
  },
  {
   "cell_type": "markdown",
   "id": "94238657",
   "metadata": {
    "papermill": {
     "duration": 0.001414,
     "end_time": "2025-03-19T05:39:38.458082",
     "exception": false,
     "start_time": "2025-03-19T05:39:38.456668",
     "status": "completed"
    },
    "tags": []
   },
   "source": []
  }
 ],
 "metadata": {
  "kaggle": {
   "accelerator": "none",
   "dataSources": [],
   "dockerImageVersionId": 30918,
   "isGpuEnabled": false,
   "isInternetEnabled": false,
   "language": "python",
   "sourceType": "notebook"
  },
  "kernelspec": {
   "display_name": "Python 3",
   "language": "python",
   "name": "python3"
  },
  "language_info": {
   "codemirror_mode": {
    "name": "ipython",
    "version": 3
   },
   "file_extension": ".py",
   "mimetype": "text/x-python",
   "name": "python",
   "nbconvert_exporter": "python",
   "pygments_lexer": "ipython3",
   "version": "3.10.12"
  },
  "papermill": {
   "default_parameters": {},
   "duration": 3.448193,
   "end_time": "2025-03-19T05:39:38.979046",
   "environment_variables": {},
   "exception": null,
   "input_path": "__notebook__.ipynb",
   "output_path": "__notebook__.ipynb",
   "parameters": {},
   "start_time": "2025-03-19T05:39:35.530853",
   "version": "2.6.0"
  }
 },
 "nbformat": 4,
 "nbformat_minor": 5
}
