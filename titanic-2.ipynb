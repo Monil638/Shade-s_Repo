{
 "cells": [
  {
   "cell_type": "code",
   "execution_count": 1,
   "id": "b84577ae",
   "metadata": {
    "_cell_guid": "b1076dfc-b9ad-4769-8c92-a6c4dae69d19",
    "_uuid": "8f2839f25d086af736a60e9eeb907d3b93b6e0e5",
    "execution": {
     "iopub.execute_input": "2025-03-22T07:04:36.846963Z",
     "iopub.status.busy": "2025-03-22T07:04:36.846473Z",
     "iopub.status.idle": "2025-03-22T07:04:39.539123Z",
     "shell.execute_reply": "2025-03-22T07:04:39.538245Z"
    },
    "papermill": {
     "duration": 2.69981,
     "end_time": "2025-03-22T07:04:39.541378",
     "exception": false,
     "start_time": "2025-03-22T07:04:36.841568",
     "status": "completed"
    },
    "tags": []
   },
   "outputs": [],
   "source": [
    "import pandas as pd  # For data manipulation\n",
    "import numpy as np  # For numerical operations\n",
    "import seaborn as sns  # For visualization\n",
    "import matplotlib.pyplot as plt  # For plotting"
   ]
  },
  {
   "cell_type": "code",
   "execution_count": 2,
   "id": "352e3481",
   "metadata": {
    "execution": {
     "iopub.execute_input": "2025-03-22T07:04:39.550223Z",
     "iopub.status.busy": "2025-03-22T07:04:39.549692Z",
     "iopub.status.idle": "2025-03-22T07:04:39.613142Z",
     "shell.execute_reply": "2025-03-22T07:04:39.611894Z"
    },
    "papermill": {
     "duration": 0.069304,
     "end_time": "2025-03-22T07:04:39.614877",
     "exception": false,
     "start_time": "2025-03-22T07:04:39.545573",
     "status": "completed"
    },
    "tags": []
   },
   "outputs": [
    {
     "data": {
      "text/html": [
       "<div>\n",
       "<style scoped>\n",
       "    .dataframe tbody tr th:only-of-type {\n",
       "        vertical-align: middle;\n",
       "    }\n",
       "\n",
       "    .dataframe tbody tr th {\n",
       "        vertical-align: top;\n",
       "    }\n",
       "\n",
       "    .dataframe thead th {\n",
       "        text-align: right;\n",
       "    }\n",
       "</style>\n",
       "<table border=\"1\" class=\"dataframe\">\n",
       "  <thead>\n",
       "    <tr style=\"text-align: right;\">\n",
       "      <th></th>\n",
       "      <th>PassengerId</th>\n",
       "      <th>Survived</th>\n",
       "      <th>Pclass</th>\n",
       "      <th>Name</th>\n",
       "      <th>Sex</th>\n",
       "      <th>Age</th>\n",
       "      <th>SibSp</th>\n",
       "      <th>Parch</th>\n",
       "      <th>Ticket</th>\n",
       "      <th>Fare</th>\n",
       "      <th>Cabin</th>\n",
       "      <th>Embarked</th>\n",
       "    </tr>\n",
       "  </thead>\n",
       "  <tbody>\n",
       "    <tr>\n",
       "      <th>0</th>\n",
       "      <td>892</td>\n",
       "      <td>0</td>\n",
       "      <td>3</td>\n",
       "      <td>Kelly, Mr. James</td>\n",
       "      <td>male</td>\n",
       "      <td>34.5</td>\n",
       "      <td>0</td>\n",
       "      <td>0</td>\n",
       "      <td>330911</td>\n",
       "      <td>7.8292</td>\n",
       "      <td>NaN</td>\n",
       "      <td>Q</td>\n",
       "    </tr>\n",
       "    <tr>\n",
       "      <th>1</th>\n",
       "      <td>893</td>\n",
       "      <td>1</td>\n",
       "      <td>3</td>\n",
       "      <td>Wilkes, Mrs. James (Ellen Needs)</td>\n",
       "      <td>female</td>\n",
       "      <td>47.0</td>\n",
       "      <td>1</td>\n",
       "      <td>0</td>\n",
       "      <td>363272</td>\n",
       "      <td>7.0000</td>\n",
       "      <td>NaN</td>\n",
       "      <td>S</td>\n",
       "    </tr>\n",
       "    <tr>\n",
       "      <th>2</th>\n",
       "      <td>894</td>\n",
       "      <td>0</td>\n",
       "      <td>2</td>\n",
       "      <td>Myles, Mr. Thomas Francis</td>\n",
       "      <td>male</td>\n",
       "      <td>62.0</td>\n",
       "      <td>0</td>\n",
       "      <td>0</td>\n",
       "      <td>240276</td>\n",
       "      <td>9.6875</td>\n",
       "      <td>NaN</td>\n",
       "      <td>Q</td>\n",
       "    </tr>\n",
       "    <tr>\n",
       "      <th>3</th>\n",
       "      <td>895</td>\n",
       "      <td>0</td>\n",
       "      <td>3</td>\n",
       "      <td>Wirz, Mr. Albert</td>\n",
       "      <td>male</td>\n",
       "      <td>27.0</td>\n",
       "      <td>0</td>\n",
       "      <td>0</td>\n",
       "      <td>315154</td>\n",
       "      <td>8.6625</td>\n",
       "      <td>NaN</td>\n",
       "      <td>S</td>\n",
       "    </tr>\n",
       "    <tr>\n",
       "      <th>4</th>\n",
       "      <td>896</td>\n",
       "      <td>1</td>\n",
       "      <td>3</td>\n",
       "      <td>Hirvonen, Mrs. Alexander (Helga E Lindqvist)</td>\n",
       "      <td>female</td>\n",
       "      <td>22.0</td>\n",
       "      <td>1</td>\n",
       "      <td>1</td>\n",
       "      <td>3101298</td>\n",
       "      <td>12.2875</td>\n",
       "      <td>NaN</td>\n",
       "      <td>S</td>\n",
       "    </tr>\n",
       "  </tbody>\n",
       "</table>\n",
       "</div>"
      ],
      "text/plain": [
       "   PassengerId  Survived  Pclass  \\\n",
       "0          892         0       3   \n",
       "1          893         1       3   \n",
       "2          894         0       2   \n",
       "3          895         0       3   \n",
       "4          896         1       3   \n",
       "\n",
       "                                           Name     Sex   Age  SibSp  Parch  \\\n",
       "0                              Kelly, Mr. James    male  34.5      0      0   \n",
       "1              Wilkes, Mrs. James (Ellen Needs)  female  47.0      1      0   \n",
       "2                     Myles, Mr. Thomas Francis    male  62.0      0      0   \n",
       "3                              Wirz, Mr. Albert    male  27.0      0      0   \n",
       "4  Hirvonen, Mrs. Alexander (Helga E Lindqvist)  female  22.0      1      1   \n",
       "\n",
       "    Ticket     Fare Cabin Embarked  \n",
       "0   330911   7.8292   NaN        Q  \n",
       "1   363272   7.0000   NaN        S  \n",
       "2   240276   9.6875   NaN        Q  \n",
       "3   315154   8.6625   NaN        S  \n",
       "4  3101298  12.2875   NaN        S  "
      ]
     },
     "execution_count": 2,
     "metadata": {},
     "output_type": "execute_result"
    }
   ],
   "source": [
    "df = pd.read_csv(\"/kaggle/input/test-file/tested.csv\")  # Load the dataset\n",
    "df.head()  # Show first 5 rows"
   ]
  },
  {
   "cell_type": "code",
   "execution_count": 3,
   "id": "c8c10833",
   "metadata": {
    "execution": {
     "iopub.execute_input": "2025-03-22T07:04:39.622856Z",
     "iopub.status.busy": "2025-03-22T07:04:39.622530Z",
     "iopub.status.idle": "2025-03-22T07:04:39.631995Z",
     "shell.execute_reply": "2025-03-22T07:04:39.631092Z"
    },
    "papermill": {
     "duration": 0.015153,
     "end_time": "2025-03-22T07:04:39.633583",
     "exception": false,
     "start_time": "2025-03-22T07:04:39.618430",
     "status": "completed"
    },
    "tags": []
   },
   "outputs": [
    {
     "data": {
      "text/plain": [
       "PassengerId      0\n",
       "Survived         0\n",
       "Pclass           0\n",
       "Name             0\n",
       "Sex              0\n",
       "Age             86\n",
       "SibSp            0\n",
       "Parch            0\n",
       "Ticket           0\n",
       "Fare             1\n",
       "Cabin          327\n",
       "Embarked         0\n",
       "dtype: int64"
      ]
     },
     "execution_count": 3,
     "metadata": {},
     "output_type": "execute_result"
    }
   ],
   "source": [
    "df.isnull().sum()"
   ]
  },
  {
   "cell_type": "code",
   "execution_count": 4,
   "id": "00db6ad3",
   "metadata": {
    "execution": {
     "iopub.execute_input": "2025-03-22T07:04:39.642130Z",
     "iopub.status.busy": "2025-03-22T07:04:39.641720Z",
     "iopub.status.idle": "2025-03-22T07:04:39.649967Z",
     "shell.execute_reply": "2025-03-22T07:04:39.648901Z"
    },
    "papermill": {
     "duration": 0.01435,
     "end_time": "2025-03-22T07:04:39.651705",
     "exception": false,
     "start_time": "2025-03-22T07:04:39.637355",
     "status": "completed"
    },
    "tags": []
   },
   "outputs": [
    {
     "data": {
      "text/plain": [
       "0      34.5\n",
       "1      47.0\n",
       "2      62.0\n",
       "3      27.0\n",
       "4      22.0\n",
       "       ... \n",
       "413    27.0\n",
       "414    39.0\n",
       "415    38.5\n",
       "416    27.0\n",
       "417    27.0\n",
       "Name: Age, Length: 418, dtype: float64"
      ]
     },
     "execution_count": 4,
     "metadata": {},
     "output_type": "execute_result"
    }
   ],
   "source": [
    "df['Age'].fillna(df['Age'].median(), inplace=False)"
   ]
  },
  {
   "cell_type": "code",
   "execution_count": 5,
   "id": "5ab8f280",
   "metadata": {
    "execution": {
     "iopub.execute_input": "2025-03-22T07:04:39.660593Z",
     "iopub.status.busy": "2025-03-22T07:04:39.660236Z",
     "iopub.status.idle": "2025-03-22T07:04:39.688024Z",
     "shell.execute_reply": "2025-03-22T07:04:39.686915Z"
    },
    "papermill": {
     "duration": 0.0341,
     "end_time": "2025-03-22T07:04:39.689652",
     "exception": false,
     "start_time": "2025-03-22T07:04:39.655552",
     "status": "completed"
    },
    "tags": []
   },
   "outputs": [
    {
     "name": "stderr",
     "output_type": "stream",
     "text": [
      "/usr/local/lib/python3.10/dist-packages/pandas/io/formats/format.py:1458: RuntimeWarning: invalid value encountered in greater\n",
      "  has_large_values = (abs_vals > 1e6).any()\n",
      "/usr/local/lib/python3.10/dist-packages/pandas/io/formats/format.py:1459: RuntimeWarning: invalid value encountered in less\n",
      "  has_small_values = ((abs_vals < 10 ** (-self.digits)) & (abs_vals > 0)).any()\n",
      "/usr/local/lib/python3.10/dist-packages/pandas/io/formats/format.py:1459: RuntimeWarning: invalid value encountered in greater\n",
      "  has_small_values = ((abs_vals < 10 ** (-self.digits)) & (abs_vals > 0)).any()\n"
     ]
    },
    {
     "data": {
      "text/html": [
       "<div>\n",
       "<style scoped>\n",
       "    .dataframe tbody tr th:only-of-type {\n",
       "        vertical-align: middle;\n",
       "    }\n",
       "\n",
       "    .dataframe tbody tr th {\n",
       "        vertical-align: top;\n",
       "    }\n",
       "\n",
       "    .dataframe thead th {\n",
       "        text-align: right;\n",
       "    }\n",
       "</style>\n",
       "<table border=\"1\" class=\"dataframe\">\n",
       "  <thead>\n",
       "    <tr style=\"text-align: right;\">\n",
       "      <th></th>\n",
       "      <th>PassengerId</th>\n",
       "      <th>Survived</th>\n",
       "      <th>Pclass</th>\n",
       "      <th>Name</th>\n",
       "      <th>Sex</th>\n",
       "      <th>Age</th>\n",
       "      <th>SibSp</th>\n",
       "      <th>Parch</th>\n",
       "      <th>Ticket</th>\n",
       "      <th>Fare</th>\n",
       "      <th>Embarked</th>\n",
       "    </tr>\n",
       "  </thead>\n",
       "  <tbody>\n",
       "    <tr>\n",
       "      <th>0</th>\n",
       "      <td>892</td>\n",
       "      <td>0</td>\n",
       "      <td>3</td>\n",
       "      <td>Kelly, Mr. James</td>\n",
       "      <td>male</td>\n",
       "      <td>34.5</td>\n",
       "      <td>0</td>\n",
       "      <td>0</td>\n",
       "      <td>330911</td>\n",
       "      <td>7.8292</td>\n",
       "      <td>Q</td>\n",
       "    </tr>\n",
       "    <tr>\n",
       "      <th>1</th>\n",
       "      <td>893</td>\n",
       "      <td>1</td>\n",
       "      <td>3</td>\n",
       "      <td>Wilkes, Mrs. James (Ellen Needs)</td>\n",
       "      <td>female</td>\n",
       "      <td>47.0</td>\n",
       "      <td>1</td>\n",
       "      <td>0</td>\n",
       "      <td>363272</td>\n",
       "      <td>7.0000</td>\n",
       "      <td>S</td>\n",
       "    </tr>\n",
       "    <tr>\n",
       "      <th>2</th>\n",
       "      <td>894</td>\n",
       "      <td>0</td>\n",
       "      <td>2</td>\n",
       "      <td>Myles, Mr. Thomas Francis</td>\n",
       "      <td>male</td>\n",
       "      <td>62.0</td>\n",
       "      <td>0</td>\n",
       "      <td>0</td>\n",
       "      <td>240276</td>\n",
       "      <td>9.6875</td>\n",
       "      <td>Q</td>\n",
       "    </tr>\n",
       "    <tr>\n",
       "      <th>3</th>\n",
       "      <td>895</td>\n",
       "      <td>0</td>\n",
       "      <td>3</td>\n",
       "      <td>Wirz, Mr. Albert</td>\n",
       "      <td>male</td>\n",
       "      <td>27.0</td>\n",
       "      <td>0</td>\n",
       "      <td>0</td>\n",
       "      <td>315154</td>\n",
       "      <td>8.6625</td>\n",
       "      <td>S</td>\n",
       "    </tr>\n",
       "    <tr>\n",
       "      <th>4</th>\n",
       "      <td>896</td>\n",
       "      <td>1</td>\n",
       "      <td>3</td>\n",
       "      <td>Hirvonen, Mrs. Alexander (Helga E Lindqvist)</td>\n",
       "      <td>female</td>\n",
       "      <td>22.0</td>\n",
       "      <td>1</td>\n",
       "      <td>1</td>\n",
       "      <td>3101298</td>\n",
       "      <td>12.2875</td>\n",
       "      <td>S</td>\n",
       "    </tr>\n",
       "    <tr>\n",
       "      <th>...</th>\n",
       "      <td>...</td>\n",
       "      <td>...</td>\n",
       "      <td>...</td>\n",
       "      <td>...</td>\n",
       "      <td>...</td>\n",
       "      <td>...</td>\n",
       "      <td>...</td>\n",
       "      <td>...</td>\n",
       "      <td>...</td>\n",
       "      <td>...</td>\n",
       "      <td>...</td>\n",
       "    </tr>\n",
       "    <tr>\n",
       "      <th>413</th>\n",
       "      <td>1305</td>\n",
       "      <td>0</td>\n",
       "      <td>3</td>\n",
       "      <td>Spector, Mr. Woolf</td>\n",
       "      <td>male</td>\n",
       "      <td>NaN</td>\n",
       "      <td>0</td>\n",
       "      <td>0</td>\n",
       "      <td>A.5. 3236</td>\n",
       "      <td>8.0500</td>\n",
       "      <td>S</td>\n",
       "    </tr>\n",
       "    <tr>\n",
       "      <th>414</th>\n",
       "      <td>1306</td>\n",
       "      <td>1</td>\n",
       "      <td>1</td>\n",
       "      <td>Oliva y Ocana, Dona. Fermina</td>\n",
       "      <td>female</td>\n",
       "      <td>39.0</td>\n",
       "      <td>0</td>\n",
       "      <td>0</td>\n",
       "      <td>PC 17758</td>\n",
       "      <td>108.9000</td>\n",
       "      <td>C</td>\n",
       "    </tr>\n",
       "    <tr>\n",
       "      <th>415</th>\n",
       "      <td>1307</td>\n",
       "      <td>0</td>\n",
       "      <td>3</td>\n",
       "      <td>Saether, Mr. Simon Sivertsen</td>\n",
       "      <td>male</td>\n",
       "      <td>38.5</td>\n",
       "      <td>0</td>\n",
       "      <td>0</td>\n",
       "      <td>SOTON/O.Q. 3101262</td>\n",
       "      <td>7.2500</td>\n",
       "      <td>S</td>\n",
       "    </tr>\n",
       "    <tr>\n",
       "      <th>416</th>\n",
       "      <td>1308</td>\n",
       "      <td>0</td>\n",
       "      <td>3</td>\n",
       "      <td>Ware, Mr. Frederick</td>\n",
       "      <td>male</td>\n",
       "      <td>NaN</td>\n",
       "      <td>0</td>\n",
       "      <td>0</td>\n",
       "      <td>359309</td>\n",
       "      <td>8.0500</td>\n",
       "      <td>S</td>\n",
       "    </tr>\n",
       "    <tr>\n",
       "      <th>417</th>\n",
       "      <td>1309</td>\n",
       "      <td>0</td>\n",
       "      <td>3</td>\n",
       "      <td>Peter, Master. Michael J</td>\n",
       "      <td>male</td>\n",
       "      <td>NaN</td>\n",
       "      <td>1</td>\n",
       "      <td>1</td>\n",
       "      <td>2668</td>\n",
       "      <td>22.3583</td>\n",
       "      <td>C</td>\n",
       "    </tr>\n",
       "  </tbody>\n",
       "</table>\n",
       "<p>418 rows × 11 columns</p>\n",
       "</div>"
      ],
      "text/plain": [
       "     PassengerId  Survived  Pclass  \\\n",
       "0            892         0       3   \n",
       "1            893         1       3   \n",
       "2            894         0       2   \n",
       "3            895         0       3   \n",
       "4            896         1       3   \n",
       "..           ...       ...     ...   \n",
       "413         1305         0       3   \n",
       "414         1306         1       1   \n",
       "415         1307         0       3   \n",
       "416         1308         0       3   \n",
       "417         1309         0       3   \n",
       "\n",
       "                                             Name     Sex   Age  SibSp  Parch  \\\n",
       "0                                Kelly, Mr. James    male  34.5      0      0   \n",
       "1                Wilkes, Mrs. James (Ellen Needs)  female  47.0      1      0   \n",
       "2                       Myles, Mr. Thomas Francis    male  62.0      0      0   \n",
       "3                                Wirz, Mr. Albert    male  27.0      0      0   \n",
       "4    Hirvonen, Mrs. Alexander (Helga E Lindqvist)  female  22.0      1      1   \n",
       "..                                            ...     ...   ...    ...    ...   \n",
       "413                            Spector, Mr. Woolf    male   NaN      0      0   \n",
       "414                  Oliva y Ocana, Dona. Fermina  female  39.0      0      0   \n",
       "415                  Saether, Mr. Simon Sivertsen    male  38.5      0      0   \n",
       "416                           Ware, Mr. Frederick    male   NaN      0      0   \n",
       "417                      Peter, Master. Michael J    male   NaN      1      1   \n",
       "\n",
       "                 Ticket      Fare Embarked  \n",
       "0                330911    7.8292        Q  \n",
       "1                363272    7.0000        S  \n",
       "2                240276    9.6875        Q  \n",
       "3                315154    8.6625        S  \n",
       "4               3101298   12.2875        S  \n",
       "..                  ...       ...      ...  \n",
       "413           A.5. 3236    8.0500        S  \n",
       "414            PC 17758  108.9000        C  \n",
       "415  SOTON/O.Q. 3101262    7.2500        S  \n",
       "416              359309    8.0500        S  \n",
       "417                2668   22.3583        C  \n",
       "\n",
       "[418 rows x 11 columns]"
      ]
     },
     "execution_count": 5,
     "metadata": {},
     "output_type": "execute_result"
    }
   ],
   "source": [
    "df.drop(columns=['Cabin'], inplace=False)"
   ]
  },
  {
   "cell_type": "code",
   "execution_count": 6,
   "id": "1274d348",
   "metadata": {
    "execution": {
     "iopub.execute_input": "2025-03-22T07:04:39.699021Z",
     "iopub.status.busy": "2025-03-22T07:04:39.698660Z",
     "iopub.status.idle": "2025-03-22T07:04:40.022164Z",
     "shell.execute_reply": "2025-03-22T07:04:40.020911Z"
    },
    "papermill": {
     "duration": 0.330022,
     "end_time": "2025-03-22T07:04:40.023840",
     "exception": false,
     "start_time": "2025-03-22T07:04:39.693818",
     "status": "completed"
    },
    "tags": []
   },
   "outputs": [
    {
     "data": {
      "text/plain": [
       "Text(0.5, 1.0, 'Survival Rate by Gender')"
      ]
     },
     "execution_count": 6,
     "metadata": {},
     "output_type": "execute_result"
    },
    {
     "data": {
      "image/png": "[encoded data removed]",
      "text/plain": [
       "<Figure size 640x480 with 1 Axes>"
      ]
     },
     "metadata": {},
     "output_type": "display_data"
    }
   ],
   "source": [
    "sns.barplot(x='Sex', y='Survived', data=df)\n",
    "plt.title(\"Survival Rate by Gender\")"
   ]
  },
  {
   "cell_type": "code",
   "execution_count": 7,
   "id": "4b177b3c",
   "metadata": {
    "execution": {
     "iopub.execute_input": "2025-03-22T07:04:40.034475Z",
     "iopub.status.busy": "2025-03-22T07:04:40.034130Z",
     "iopub.status.idle": "2025-03-22T07:04:40.277401Z",
     "shell.execute_reply": "2025-03-22T07:04:40.276306Z"
    },
    "papermill": {
     "duration": 0.251005,
     "end_time": "2025-03-22T07:04:40.279520",
     "exception": false,
     "start_time": "2025-03-22T07:04:40.028515",
     "status": "completed"
    },
    "tags": []
   },
   "outputs": [
    {
     "data": {
      "text/plain": [
       "Text(0.5, 1.0, 'Survival Rate by Passenger Class')"
      ]
     },
     "execution_count": 7,
     "metadata": {},
     "output_type": "execute_result"
    },
    {
     "data": {
      "image/png": "[encoded data removed]",
      "text/plain": [
       "<Figure size 640x480 with 1 Axes>"
      ]
     },
     "metadata": {},
     "output_type": "display_data"
    }
   ],
   "source": [
    "sns.barplot(x='Pclass', y='Survived', data=df)\n",
    "plt.title(\"Survival Rate by Passenger Class\")"
   ]
  },
  {
   "cell_type": "code",
   "execution_count": 8,
   "id": "3e2a12da",
   "metadata": {
    "execution": {
     "iopub.execute_input": "2025-03-22T07:04:40.291064Z",
     "iopub.status.busy": "2025-03-22T07:04:40.290636Z",
     "iopub.status.idle": "2025-03-22T07:04:40.782650Z",
     "shell.execute_reply": "2025-03-22T07:04:40.781518Z"
    },
    "papermill": {
     "duration": 0.499694,
     "end_time": "2025-03-22T07:04:40.784391",
     "exception": false,
     "start_time": "2025-03-22T07:04:40.284697",
     "status": "completed"
    },
    "tags": []
   },
   "outputs": [
    {
     "name": "stderr",
     "output_type": "stream",
     "text": [
      "/usr/local/lib/python3.10/dist-packages/seaborn/_oldcore.py:1119: FutureWarning: use_inf_as_na option is deprecated and will be removed in a future version. Convert inf values to NaN before operating instead.\n",
      "  with pd.option_context('mode.use_inf_as_na', True):\n",
      "/usr/local/lib/python3.10/dist-packages/seaborn/_oldcore.py:1119: FutureWarning: use_inf_as_na option is deprecated and will be removed in a future version. Convert inf values to NaN before operating instead.\n",
      "  with pd.option_context('mode.use_inf_as_na', True):\n"
     ]
    },
    {
     "data": {
      "text/plain": [
       "Text(0.5, 1.0, 'Age Distribution of Survivors vs. Non-Survivors')"
      ]
     },
     "execution_count": 8,
     "metadata": {},
     "output_type": "execute_result"
    },
    {
     "data": {
      "image/png": "[encoded data removed]",
      "text/plain": [
       "<Figure size 1000x500 with 1 Axes>"
      ]
     },
     "metadata": {},
     "output_type": "display_data"
    }
   ],
   "source": [
    "plt.figure(figsize=(10,5))\n",
    "sns.histplot(df[df['Survived']==1]['Age'], bins=30, kde=True, color=\"green\", label=\"Survived\")\n",
    "sns.histplot(df[df['Survived']==0]['Age'], bins=30, kde=True, color=\"red\", label=\"Not Survived\")\n",
    "plt.legend()\n",
    "plt.title(\"Age Distribution of Survivors vs. Non-Survivors\")"
   ]
  },
  {
   "cell_type": "code",
   "execution_count": 9,
   "id": "cdc4e220",
   "metadata": {
    "execution": {
     "iopub.execute_input": "2025-03-22T07:04:40.798532Z",
     "iopub.status.busy": "2025-03-22T07:04:40.798187Z",
     "iopub.status.idle": "2025-03-22T07:04:41.202022Z",
     "shell.execute_reply": "2025-03-22T07:04:41.200643Z"
    },
    "papermill": {
     "duration": 0.413168,
     "end_time": "2025-03-22T07:04:41.203971",
     "exception": false,
     "start_time": "2025-03-22T07:04:40.790803",
     "status": "completed"
    },
    "tags": []
   },
   "outputs": [
    {
     "data": {
      "text/plain": [
       "Text(0.5, 1.0, 'Survival Rate by Family Size')"
      ]
     },
     "execution_count": 9,
     "metadata": {},
     "output_type": "execute_result"
    },
    {
     "data": {
      "image/png": "[encoded data removed]",
      "text/plain": [
       "<Figure size 640x480 with 1 Axes>"
      ]
     },
     "metadata": {},
     "output_type": "display_data"
    }
   ],
   "source": [
    "df['FamilySize'] = df['SibSp'] + df['Parch'] + 1\n",
    "sns.barplot(x='FamilySize', y='Survived', data=df)\n",
    "plt.title(\"Survival Rate by Family Size\")"
   ]
  },
  {
   "cell_type": "code",
   "execution_count": 10,
   "id": "807c4ed4",
   "metadata": {
    "execution": {
     "iopub.execute_input": "2025-03-22T07:04:41.220719Z",
     "iopub.status.busy": "2025-03-22T07:04:41.220389Z",
     "iopub.status.idle": "2025-03-22T07:04:41.436860Z",
     "shell.execute_reply": "2025-03-22T07:04:41.435662Z"
    },
    "papermill": {
     "duration": 0.226325,
     "end_time": "2025-03-22T07:04:41.438872",
     "exception": false,
     "start_time": "2025-03-22T07:04:41.212547",
     "status": "completed"
    },
    "tags": []
   },
   "outputs": [
    {
     "data": {
      "text/plain": [
       "Text(0.5, 1.0, 'Fare Distribution by Class')"
      ]
     },
     "execution_count": 10,
     "metadata": {},
     "output_type": "execute_result"
    },
    {
     "data": {
      "image/png": "[encoded data removed]",
      "text/plain": [
       "<Figure size 1000x500 with 1 Axes>"
      ]
     },
     "metadata": {},
     "output_type": "display_data"
    }
   ],
   "source": [
    "plt.figure(figsize=(10,5))\n",
    "sns.boxplot(x='Pclass', y='Fare', data=df)\n",
    "plt.title(\"Fare Distribution by Class\")"
   ]
  },
  {
   "cell_type": "code",
   "execution_count": 11,
   "id": "95227957",
   "metadata": {
    "execution": {
     "iopub.execute_input": "2025-03-22T07:04:41.455195Z",
     "iopub.status.busy": "2025-03-22T07:04:41.454781Z",
     "iopub.status.idle": "2025-03-22T07:04:42.530477Z",
     "shell.execute_reply": "2025-03-22T07:04:42.529018Z"
    },
    "papermill": {
     "duration": 1.085927,
     "end_time": "2025-03-22T07:04:42.532323",
     "exception": false,
     "start_time": "2025-03-22T07:04:41.446396",
     "status": "completed"
    },
    "tags": []
   },
   "outputs": [
    {
     "name": "stdout",
     "output_type": "stream",
     "text": [
      "--- Before Training ---\n",
      "X_train shape: (334, 5)\n",
      "X_test shape: (84, 5)\n",
      "X_train NaNs: 0\n",
      "X_test NaNs: 0\n",
      "X_train dtypes:\n",
      " Pclass          int64\n",
      "Sex             int64\n",
      "Age           float64\n",
      "Fare          float64\n",
      "FamilySize      int64\n",
      "dtype: object\n",
      "X_test dtypes:\n",
      " Pclass          int64\n",
      "Sex             int64\n",
      "Age           float64\n",
      "Fare          float64\n",
      "FamilySize      int64\n",
      "dtype: object\n",
      "X_train infs: 0\n",
      "X_test infs: 0\n",
      "X_train max values:\n",
      " Pclass          3.0000\n",
      "Sex             1.0000\n",
      "Age            76.0000\n",
      "Fare          512.3292\n",
      "FamilySize     11.0000\n",
      "dtype: float64\n",
      "X_test max values:\n",
      " Pclass          3.000\n",
      "Sex             1.000\n",
      "Age            57.000\n",
      "Fare          262.375\n",
      "FamilySize     11.000\n",
      "dtype: float64\n",
      "\n",
      "--- X_train head (first 5 rows) ---\n",
      "     Pclass  Sex       Age     Fare  FamilySize\n",
      "336       2    0  32.00000  13.0000           1\n",
      "31        2    0  24.00000  31.5000           3\n",
      "84        2    0  30.27259  10.7083           1\n",
      "287       1    0  24.00000  82.2667           2\n",
      "317       2    0  19.00000  10.5000           1\n",
      "\n",
      "--- X_test head (first 5 rows) ---\n",
      "     Pclass  Sex   Age      Fare  FamilySize\n",
      "321       3    0  25.0    7.2292           1\n",
      "324       1    1  39.0  211.3375           1\n",
      "388       3    0  21.0    7.7500           1\n",
      "56        3    0  35.0    7.8958           1\n",
      "153       3    1  36.0   12.1833           3\n",
      "Model Accuracy: 1.00\n"
     ]
    }
   ],
   "source": [
    "import pandas as pd\n",
    "from sklearn.model_selection import train_test_split\n",
    "from sklearn.ensemble import RandomForestClassifier\n",
    "from sklearn.metrics import accuracy_score\n",
    "from sklearn.impute import SimpleImputer\n",
    " \n",
    "# Assuming 'df' is your DataFrame loaded from the Titanic dataset\n",
    " \n",
    "# Convert categorical features into numbers\n",
    "df['Sex'] = df['Sex'].map({'male': 0, 'female': 1})\n",
    "df['Embarked'] = df['Embarked'].fillna('S')  # Corrected inplace warning\n",
    "df['Embarked'] = df['Embarked'].map({'S': 0, 'C': 1, 'Q': 2})\n",
    " \n",
    "# Select features and target variable\n",
    "features = ['Pclass', 'Sex', 'Age', 'Fare', 'FamilySize']\n",
    "X = df[features].copy()\n",
    "y = df['Survived'].copy()\n",
    " \n",
    "# Impute missing 'Age' and 'Fare' values\n",
    "imputer = SimpleImputer(strategy='mean')\n",
    "X[['Age', 'Fare']] = imputer.fit_transform(X[['Age', 'Fare']])\n",
    " \n",
    "# Convert to DataFrame *before* splitting\n",
    "X = pd.DataFrame(X, columns=features)\n",
    " \n",
    "# Split data\n",
    "X_train, X_test, y_train, y_test = train_test_split(X, y, test_size=0.2, random_state=42)\n",
    " \n",
    "# --- CRITICAL CHECKS ---\n",
    "print(\"--- Before Training ---\")\n",
    "print(\"X_train shape:\", X_train.shape)\n",
    "print(\"X_test shape:\", X_test.shape)\n",
    "print(\"X_train NaNs:\", X_train.isnull().sum().sum())  # Total NaNs\n",
    "print(\"X_test NaNs:\", X_test.isnull().sum().sum())\n",
    "print(\"X_train dtypes:\\n\", X_train.dtypes)\n",
    "print(\"X_test dtypes:\\n\", X_test.dtypes)\n",
    " \n",
    "# Check for infinite values\n",
    "print(\"X_train infs:\", (X_train == float('inf')).sum().sum() + (X_train == float('-inf')).sum().sum())\n",
    "print(\"X_test infs:\", (X_test == float('inf')).sum().sum() + (X_test == float('-inf')).sum().sum())\n",
    " \n",
    "# Check for very large values\n",
    "print(\"X_train max values:\\n\", X_train.max())\n",
    "print(\"X_test max values:\\n\", X_test.max())\n",
    " \n",
    "# --- Additional Debugging ---\n",
    "print(\"\\n--- X_train head (first 5 rows) ---\")\n",
    "print(X_train.head())\n",
    " \n",
    "print(\"\\n--- X_test head (first 5 rows) ---\")\n",
    "print(X_test.head())\n",
    " \n",
    "# --- END CRITICAL CHECKS ---\n",
    " \n",
    "# Train a model\n",
    "model = RandomForestClassifier(n_estimators=100, random_state=42)\n",
    "model.fit(X_train, y_train)\n",
    " \n",
    "# Make predictions\n",
    "y_pred = model.predict(X_test)\n",
    " \n",
    "# Check accuracy\n",
    "accuracy = accuracy_score(y_test, y_pred)\n",
    "print(f\"Model Accuracy: {accuracy:.2f}\")"
   ]
  },
  {
   "cell_type": "code",
   "execution_count": null,
   "id": "27fad490",
   "metadata": {
    "papermill": {
     "duration": 0.007909,
     "end_time": "2025-03-22T07:04:42.548181",
     "exception": false,
     "start_time": "2025-03-22T07:04:42.540272",
     "status": "completed"
    },
    "tags": []
   },
   "outputs": [],
   "source": []
  }
 ],
 "metadata": {
  "kaggle": {
   "accelerator": "none",
   "dataSources": [
    {
     "datasetId": 826163,
     "sourceId": 2879186,
     "sourceType": "datasetVersion"
    }
   ],
   "dockerImageVersionId": 30918,
   "isGpuEnabled": false,
   "isInternetEnabled": false,
   "language": "python",
   "sourceType": "notebook"
  },
  "kernelspec": {
   "display_name": "Python 3",
   "language": "python",
   "name": "python3"
  },
  "language_info": {
   "codemirror_mode": {
    "name": "ipython",
    "version": 3
   },
   "file_extension": ".py",
   "mimetype": "text/x-python",
   "name": "python",
   "nbconvert_exporter": "python",
   "pygments_lexer": "ipython3",
   "version": "3.10.12"
  },
  "papermill": {
   "default_parameters": {},
   "duration": 9.351538,
   "end_time": "2025-03-22T07:04:43.377182",
   "environment_variables": {},
   "exception": null,
   "input_path": "__notebook__.ipynb",
   "output_path": "__notebook__.ipynb",
   "parameters": {},
   "start_time": "2025-03-22T07:04:34.025644",
   "version": "2.6.0"
  }
 },
 "nbformat": 4,
 "nbformat_minor": 5
}
